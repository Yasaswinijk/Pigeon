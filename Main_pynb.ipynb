{
  "nbformat": 4,
  "nbformat_minor": 0,
  "metadata": {
    "colab": {
      "provenance": [],
      "include_colab_link": true
    },
    "kernelspec": {
      "name": "python3",
      "display_name": "Python 3"
    },
    "language_info": {
      "name": "python"
    }
  },
  "cells": [
    {
      "cell_type": "markdown",
      "metadata": {
        "id": "view-in-github",
        "colab_type": "text"
      },
      "source": [
        "<a href=\"https://colab.research.google.com/github/Yasaswinijk/WeHearU/blob/main/Main_pynb.ipynb\" target=\"_parent\"><img src=\"https://colab.research.google.com/assets/colab-badge.svg\" alt=\"Open In Colab\"/></a>"
      ]
    },
    {
      "cell_type": "code",
      "source": [
        "import nltk\n",
        "nltk.download('punkt')\n",
        "nltk.download('averaged_perceptron_tagger')"
      ],
      "metadata": {
        "id": "NaDU-z2TS3mQ"
      },
      "execution_count": null,
      "outputs": []
    },
    {
      "cell_type": "code",
      "source": [
        "import os\n",
        "import random\n",
        "import nltk\n",
        "from moviepy.editor import VideoFileClip, concatenate_videoclips\n",
        "\n",
        "# Ensure NLTK resources are downloaded\n",
        "nltk.download('punkt')\n",
        "nltk.download('averaged_perceptron_tagger')\n",
        "nltk.download('wordnet')\n",
        "\n",
        "# Path to the folder containing ISL videos\n",
        "video_folder_path = \"/content/drive/MyDrive/Colab Notebooks\"  # Update this to your local path\n",
        "\n",
        "# Tokenize and Lemmatize the input text\n",
        "def preprocess_text(text):\n",
        "    words = nltk.word_tokenize(text.lower())\n",
        "    lemmatizer = nltk.WordNetLemmatizer()\n",
        "    lemmatized_words = [lemmatizer.lemmatize(word) for word in words]\n",
        "    return lemmatized_words\n",
        "\n",
        "# Function to map English sentence or words to ISL videos (handling multiple representations)\n",
        "def map_sentence_to_video(sentence, video_folder):\n",
        "    # Check for multiple representations of the sentence\n",
        "    sentence_with_underscores = \"_\".join(sentence.lower().split())\n",
        "    possible_videos = [f for f in os.listdir(video_folder) if sentence_with_underscores in f]\n",
        "\n",
        "    if possible_videos:\n",
        "        # Choose a random representation of the sentence\n",
        "        chosen_video = random.choice(possible_videos)\n",
        "        video_path = os.path.join(video_folder, chosen_video)\n",
        "        return [VideoFileClip(video_path)]\n",
        "\n",
        "    # If no sentence-level video found, fall back to word-level\n",
        "    words = preprocess_text(sentence)\n",
        "    return map_words_to_videos(words, video_folder)\n",
        "\n",
        "# Function to map English words to ISL videos\n",
        "def map_words_to_videos(words, video_folder):\n",
        "    video_clips = []\n",
        "    for word in words:\n",
        "        video_path = os.path.join(video_folder, f\"{word}.mp4\")\n",
        "        if os.path.exists(video_path):\n",
        "            video_clips.append(VideoFileClip(video_path))\n",
        "        else:\n",
        "            print(f\"Video not found for word: {word}\")\n",
        "    return video_clips\n",
        "\n",
        "# Concatenate all the videos for the sentence\n",
        "def create_isl_video(clips, output_path=\"/content/drive/MyDrive/ISL Videos/video.mp4\"):\n",
        "    if clips:\n",
        "        final_clip = concatenate_videoclips(clips)\n",
        "        final_clip.write_videofile(output_path)\n",
        "        print(f\"ISL video saved as: {output_path}\")\n",
        "    else:\n",
        "        print(\"No clips found for the input text.\")\n",
        "\n",
        "# Main function to translate text to ISL video\n",
        "def text_to_isl(text):\n",
        "    clips = map_sentence_to_video(text, video_folder_path)\n",
        "    create_isl_video(clips)\n",
        "\n",
        "# Example usage\n",
        "input_text = \"m\"\n",
        "text_to_isl(input_text)"
      ],
      "metadata": {
        "id": "e4GiH0DuNI5f",
        "outputId": "f143c73e-883e-4b6e-a071-060bc8941203",
        "colab": {
          "base_uri": "https://localhost:8080/"
        }
      },
      "execution_count": null,
      "outputs": [
        {
          "output_type": "stream",
          "name": "stderr",
          "text": [
            "[nltk_data] Downloading package punkt to /root/nltk_data...\n",
            "[nltk_data]   Package punkt is already up-to-date!\n",
            "[nltk_data] Downloading package averaged_perceptron_tagger to\n",
            "[nltk_data]     /root/nltk_data...\n",
            "[nltk_data]   Package averaged_perceptron_tagger is already up-to-\n",
            "[nltk_data]       date!\n",
            "[nltk_data] Downloading package wordnet to /root/nltk_data...\n",
            "[nltk_data]   Package wordnet is already up-to-date!\n"
          ]
        },
        {
          "output_type": "stream",
          "name": "stdout",
          "text": [
            "Moviepy - Building video /content/drive/MyDrive/ISL Videos/video.mp4.\n",
            "MoviePy - Writing audio in videoTEMP_MPY_wvf_snd.mp3\n"
          ]
        },
        {
          "output_type": "stream",
          "name": "stderr",
          "text": []
        },
        {
          "output_type": "stream",
          "name": "stdout",
          "text": [
            "MoviePy - Done.\n",
            "Moviepy - Writing video /content/drive/MyDrive/ISL Videos/video.mp4\n",
            "\n"
          ]
        },
        {
          "output_type": "stream",
          "name": "stderr",
          "text": []
        },
        {
          "output_type": "stream",
          "name": "stdout",
          "text": [
            "Moviepy - Done !\n",
            "Moviepy - video ready /content/drive/MyDrive/ISL Videos/video.mp4\n",
            "ISL video saved as: /content/drive/MyDrive/ISL Videos/video.mp4\n"
          ]
        }
      ]
    },
    {
      "cell_type": "markdown",
      "source": [
        "Accessing Drive Database(Colab notbook) to get results\n",
        ";)"
      ],
      "metadata": {
        "id": "seDdZpe3nLUC"
      }
    },
    {
      "cell_type": "code",
      "source": [
        "import os\n",
        "import random\n",
        "import re  # Import the 're' module for regular expressions\n",
        "import nltk\n",
        "from moviepy.editor import VideoFileClip, concatenate_videoclips\n",
        "\n",
        "# Ensure NLTK resources are downloaded\n",
        "nltk.download('punkt')\n",
        "nltk.download('averaged_perceptron_tagger')\n",
        "nltk.download('wordnet')\n",
        "\n",
        "# Path to the folder containing ISL videos\n",
        "video_folder_path = \"/content/drive/MyDrive/Colab Notebooks\"  # Update this to your local path\n",
        "\n",
        "# Tokenize and Lemmatize the input text\n",
        "def preprocess_text(text):\n",
        "    words = nltk.word_tokenize(text.lower())\n",
        "    lemmatizer = nltk.WordNetLemmatizer()\n",
        "    lemmatized_words = [lemmatizer.lemmatize(word) for word in words]\n",
        "    return lemmatized_words\n",
        "\n",
        "# Function to map English sentence or words to ISL videos (handling multiple representations)\n",
        "def map_sentence_to_video(sentence, video_folder):\n",
        "    # Check for multiple representations of the sentence\n",
        "    sentence_with_underscores = \"_\".join(sentence.lower().split())\n",
        "    possible_videos = [f for f in os.listdir(video_folder) if re.match(f\"^{sentence_with_underscores}_\\d+\\.mp4$\", f)]\n",
        "\n",
        "    if possible_videos:\n",
        "        # Choose a random representation of the sentence\n",
        "        chosen_video = random.choice(possible_videos)\n",
        "        video_path = os.path.join(video_folder, chosen_video)\n",
        "        return [VideoFileClip(video_path)]\n",
        "\n",
        "    # If no sentence-level video found, fall back to word-level\n",
        "    words = preprocess_text(sentence)\n",
        "    return map_words_to_videos(words, video_folder)\n",
        "\n",
        "# Function to map English words to ISL videos\n",
        "def map_words_to_videos(words, video_folder):\n",
        "    video_clips = []\n",
        "    for word in words:\n",
        "        word_with_underscores = \"_\".join(word.lower().split())\n",
        "        print(f\"Looking for video: {word_with_underscores}_*.mp4\")\n",
        "\n",
        "        # Look for word-level videos\n",
        "        possible_videos = [f for f in os.listdir(video_folder) if re.match(f\"^{word_with_underscores}_\\d+\\.mp4$\", f, re.IGNORECASE)]\n",
        "\n",
        "        if possible_videos:\n",
        "            # Choose a random video for the word\n",
        "            chosen_video = random.choice(possible_videos)\n",
        "            video_path = os.path.join(video_folder, chosen_video)\n",
        "            video_clips.append(VideoFileClip(video_path))\n",
        "        else:\n",
        "            print(f\"Video not found for word: {word}, breaking into letters.\")\n",
        "            video_clips.extend(map_letters_to_videos(word, video_folder))  # Attempt to map letters\n",
        "\n",
        "    return video_clips\n",
        "\n",
        "\n",
        "# Function to map individual letters to ISL videos\n",
        "def map_letters_to_videos(word, video_folder):\n",
        "    video_clips = []\n",
        "    for letter in word:\n",
        "        # Look for letter-level videos with numeric suffix (e.g., \"a_1.mp4\", \"b_2.mp4\")\n",
        "        possible_videos = [f for f in os.listdir(video_folder) if re.match(f\"^{letter}_\\d+\\.mp4$\", f)]\n",
        "        if possible_videos:\n",
        "            # Choose a random video for the letter\n",
        "            chosen_video = random.choice(possible_videos)\n",
        "            video_path = os.path.join(video_folder, chosen_video)\n",
        "            video_clips.append(VideoFileClip(video_path))\n",
        "        else:\n",
        "            print(f\"Video not found for letter: {letter}\")\n",
        "    return video_clips\n",
        "\n",
        "# Concatenate all the videos for the sentence\n",
        "def create_isl_video(clips, output_path=\"/content/drive/MyDrive/ISL Videos/video.mp4\"):\n",
        "    if clips:\n",
        "        final_clip = concatenate_videoclips(clips)\n",
        "        final_clip.write_videofile(output_path)\n",
        "        print(f\"ISL video saved as: {output_path}\")\n",
        "    else:\n",
        "        print(\"No clips found for the input text.\")\n",
        "\n",
        "# Main function to translate text to ISL video\n",
        "def text_to_isl(text):\n",
        "    clips = map_sentence_to_video(text, video_folder_path)\n",
        "    create_isl_video(clips)\n",
        "\n",
        "# Example usage:\n",
        "# Ensure the process_youtube_url function is properly defined somewhere for fetching and summarizing the text from a YouTube URL\n",
        "input_url = \"https://www.youtube.com/watch?v=WzxGmCb5WOU\"\n",
        "summarized_text = process_youtube_url(input_url)  # Assuming this function is implemented to extract summary\n",
        "\n",
        "# Now you can use summarized_text in your other code\n",
        "print(\"Using summarized text for further processing:\")\n",
        "print(summarized_text)\n",
        "\n",
        "# Example: passing it to a function that uses the summarized text\n",
        "text_to_isl(summarized_text)  # Use the summarized text here\n"
      ],
      "metadata": {
        "id": "yYkGhIu6nKsx"
      },
      "execution_count": null,
      "outputs": []
    }
  ]
}